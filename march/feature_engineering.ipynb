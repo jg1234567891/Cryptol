for x in range(1,24):
    bc = StockDataFrame.retype(pd.read_csv('coinbase.csv'))
    rsi = 'rsi_' + str(x)
    rs = 'rs_' + str(x)
    bc[rsi]
    bc['close_-1_r']
    new_bc = bc.drop(columns=['open (usd)', 'high','low','close_-1_s','close_-1_d',rs])
    new_bc['next_close'] = new_bc['close'].shift(-1)
    dataset = new_bc.tail(600)
    dataset = dataset.dropna()
    X = dataset[['close', rsi, 'close_-1_r']]
    y = dataset['next_close']
    X_train, X_test, y_train, y_test = train_test_split(X, y, test_size=0.2, random_state=0)
    regressor = LinearRegression()
    regressor.fit(X_train, y_train)
    coeff_df = pd.DataFrame(regressor.coef_, X.columns, columns=['Coefficient'])
    coeff_df
    y_pred = regressor.predict(X_test)
    df = pd.DataFrame({'Actual': y_test, 'Predicted': y_pred})
    close_only = new_bc['close']
    df = df.join(close_only)
    df['downward_prediction'] =((df["Predicted"] < df["close"]))
    df['correct_downward_prediction'] =((df["Predicted"] < df["close"]) & (df["Actual"] < df["close"]) )
    df['upward_prediction'] =((df["Predicted"] > df["close"]))
    df['correct_upward_prediction'] =((df["Predicted"] > df["close"]) & (df["Actual"] > df["close"]) )
    pd.options.display.max_rows = None
    df
    downward = df[df['downward_prediction']] == True
    correct_downward = df[df['correct_downward_prediction']] == True
    print("RSI: " + rsi + "\n")
    print("Downward Predictions: " + str(downward.shape[0]))
    print("Correct Downward Predictions: " + str(correct_downward.shape[0]))
    upward = df[df['upward_prediction']] == True
    correct_upward = df[df['correct_upward_prediction']] == True
    print("Upward Predictions: " + str(upward.shape[0]))
    print("Correct Upward Predictions: " + str(correct_upward.shape[0]) + '\n')
    print("Downward % Correct: " + str((correct_downward.shape[0]/downward.shape[0])*100))
    print("Upward % Correct: " + str((correct_upward.shape[0]/upward.shape[0])*100))
    print('\n=================================\n')

