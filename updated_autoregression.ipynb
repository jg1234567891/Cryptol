{
 "cells": [
  {
   "cell_type": "code",
   "execution_count": 2,
   "metadata": {},
   "outputs": [],
   "source": [
    "seriesimport pandas as pd\n",
    "import numpy as np\n",
    "import matplotlib.pyplot as plt\n",
    "from pandas.plotting import lag_plot\n",
    "from pandas.plotting import autocorrelation_plot\n",
    "from sklearn.metrics import mean_squared_error\n",
    "from statsmodels.tsa.ar_model import AutoReg\n",
    "from statsmodels.graphics.tsaplots import plot_acf\n",
    "from statsmodels.tsa.ar_model import AutoReg\n",
    "from math import sqrt\n",
    "%matplotlib inline"
   ]
  },
  {
   "cell_type": "code",
   "execution_count": 3,
   "metadata": {},
   "outputs": [
    {
     "data": {
      "text/plain": [
       "<AxesSubplot:xlabel='y(t)', ylabel='y(t + 1)'>"
      ]
     },
     "execution_count": 3,
     "metadata": {},
     "output_type": "execute_result"
    },
    {
     "data": {
      "image/png": "[encoded data removed]",
      "text/plain": [
       "<Figure size 432x288 with 1 Axes>"
      ]
     },
     "metadata": {
      "needs_background": "light"
     },
     "output_type": "display_data"
    }
   ],
   "source": [
    "bitcoin = pd.read_csv(\"bitcoin.csv\")\n",
    "series = bitcoin[\"Closing Price (USD)\"]\n",
    "series=series.sort_index(ascending=False)\n",
    "lag_plot(series)"
   ]
  },
  {
   "cell_type": "code",
   "execution_count": 4,
   "metadata": {},
   "outputs": [
    {
     "data": {
      "image/png": "[encoded data removed]",
      "text/plain": [
       "<Figure size 432x288 with 1 Axes>"
      ]
     },
     "execution_count": 4,
     "metadata": {},
     "output_type": "execute_result"
    },
    {
     "data": {
      "image/png": "[encoded data removed]",
      "text/plain": [
       "<Figure size 432x288 with 1 Axes>"
      ]
     },
     "metadata": {
      "needs_background": "light"
     },
     "output_type": "display_data"
    }
   ],
   "source": [
    "plot_acf(series)"
   ]
  },
  {
   "cell_type": "code",
   "execution_count": 5,
   "metadata": {},
   "outputs": [
    {
     "data": {
      "text/html": [
       "<div>\n",
       "<style scoped>\n",
       "    .dataframe tbody tr th:only-of-type {\n",
       "        vertical-align: middle;\n",
       "    }\n",
       "\n",
       "    .dataframe tbody tr th {\n",
       "        vertical-align: top;\n",
       "    }\n",
       "\n",
       "    .dataframe thead th {\n",
       "        text-align: right;\n",
       "    }\n",
       "</style>\n",
       "<table border=\"1\" class=\"dataframe\">\n",
       "  <thead>\n",
       "    <tr style=\"text-align: right;\">\n",
       "      <th></th>\n",
       "      <th>t-1</th>\n",
       "      <th>t+1</th>\n",
       "    </tr>\n",
       "  </thead>\n",
       "  <tbody>\n",
       "    <tr>\n",
       "      <th>0</th>\n",
       "      <td>NaN</td>\n",
       "      <td>5.97</td>\n",
       "    </tr>\n",
       "    <tr>\n",
       "      <th>1</th>\n",
       "      <td>5.97</td>\n",
       "      <td>5.53</td>\n",
       "    </tr>\n",
       "    <tr>\n",
       "      <th>2</th>\n",
       "      <td>5.53</td>\n",
       "      <td>5.13</td>\n",
       "    </tr>\n",
       "    <tr>\n",
       "      <th>3</th>\n",
       "      <td>5.13</td>\n",
       "      <td>4.85</td>\n",
       "    </tr>\n",
       "    <tr>\n",
       "      <th>4</th>\n",
       "      <td>4.85</td>\n",
       "      <td>4.87</td>\n",
       "    </tr>\n",
       "    <tr>\n",
       "      <th>...</th>\n",
       "      <td>...</td>\n",
       "      <td>...</td>\n",
       "    </tr>\n",
       "    <tr>\n",
       "      <th>3431</th>\n",
       "      <td>47981.48</td>\n",
       "      <td>47395.84</td>\n",
       "    </tr>\n",
       "    <tr>\n",
       "      <th>3432</th>\n",
       "      <td>47395.84</td>\n",
       "      <td>47228.48</td>\n",
       "    </tr>\n",
       "    <tr>\n",
       "      <th>3433</th>\n",
       "      <td>47228.48</td>\n",
       "      <td>48662.50</td>\n",
       "    </tr>\n",
       "    <tr>\n",
       "      <th>3434</th>\n",
       "      <td>48662.50</td>\n",
       "      <td>47942.57</td>\n",
       "    </tr>\n",
       "    <tr>\n",
       "      <th>3435</th>\n",
       "      <td>47942.57</td>\n",
       "      <td>47881.49</td>\n",
       "    </tr>\n",
       "  </tbody>\n",
       "</table>\n",
       "<p>3436 rows × 2 columns</p>\n",
       "</div>"
      ],
      "text/plain": [
       "           t-1       t+1\n",
       "0          NaN      5.97\n",
       "1         5.97      5.53\n",
       "2         5.53      5.13\n",
       "3         5.13      4.85\n",
       "4         4.85      4.87\n",
       "...        ...       ...\n",
       "3431  47981.48  47395.84\n",
       "3432  47395.84  47228.48\n",
       "3433  47228.48  48662.50\n",
       "3434  48662.50  47942.57\n",
       "3435  47942.57  47881.49\n",
       "\n",
       "[3436 rows x 2 columns]"
      ]
     },
     "execution_count": 5,
     "metadata": {},
     "output_type": "execute_result"
    }
   ],
   "source": [
    "values = pd.DataFrame(series.values)\n",
    "df = pd.concat([values.shift(1), values], axis=1)\n",
    "df.columns = ['t-1', 't+1']\n",
    "df"
   ]
  },
  {
   "cell_type": "code",
   "execution_count": 47,
   "metadata": {},
   "outputs": [
    {
     "name": "stdout",
     "output_type": "stream",
     "text": [
      "predicted=13652.772901, expected=13816.080000\n",
      "predicted=13825.575267, expected=13762.000000\n",
      "predicted=13695.634924, expected=13563.720000\n",
      "predicted=13529.087845, expected=14041.580000\n",
      "predicted=13976.235276, expected=14160.590000\n",
      "predicted=14179.425669, expected=15605.040000\n",
      "predicted=15626.972384, expected=15598.090000\n",
      "predicted=15637.321761, expected=14838.970000\n",
      "predicted=14904.577368, expected=15489.150000\n",
      "predicted=15475.415361, expected=15332.040000\n",
      "predicted=15516.938413, expected=15313.650000\n",
      "predicted=15214.704228, expected=15707.890000\n",
      "predicted=15580.645339, expected=16300.000000\n",
      "predicted=16422.283562, expected=16335.580000\n",
      "predicted=16250.022396, expected=16086.340000\n",
      "predicted=16278.096866, expected=15975.490000\n",
      "predicted=15963.589782, expected=16724.620000\n",
      "predicted=16593.224018, expected=17680.630000\n",
      "predicted=17688.325794, expected=17785.950000\n",
      "predicted=17653.394806, expected=17825.470000\n",
      "predicted=17870.936879, expected=18687.650000\n",
      "predicted=18750.387873, expected=18725.000000\n",
      "predicted=18851.727827, expected=18435.200000\n",
      "predicted=18458.598319, expected=18383.350000\n",
      "predicted=18323.796041, expected=19160.850000\n",
      "predicted=19184.370960, expected=18732.430000\n",
      "predicted=18693.448630, expected=17160.090000\n",
      "predicted=17190.895571, expected=17154.390000\n",
      "predicted=17084.773262, expected=17741.790000\n",
      "predicted=17816.319803, expected=18192.030000\n",
      "predicted=18200.746778, expected=19700.190000\n",
      "predicted=19626.965266, expected=18771.430000\n",
      "predicted=18652.885169, expected=19226.550000\n",
      "predicted=19274.533532, expected=19448.400000\n",
      "predicted=19478.330968, expected=18673.760000\n",
      "predicted=18711.542784, expected=19162.160000\n",
      "predicted=18915.998738, expected=19380.580000\n",
      "predicted=19450.052686, expected=19173.500000\n",
      "predicted=19382.508927, expected=18316.430000\n",
      "predicted=18340.561188, expected=18556.640000\n",
      "predicted=18591.233381, expected=18250.300000\n",
      "predicted=18089.742689, expected=18040.020000\n",
      "predicted=18150.142155, expected=18815.630000\n",
      "predicted=18562.574663, expected=19162.360000\n",
      "predicted=19051.025724, expected=19274.330000\n",
      "predicted=19251.392808, expected=19434.870000\n",
      "predicted=19293.099383, expected=21365.700000\n",
      "predicted=21517.423856, expected=22814.240000\n",
      "predicted=22604.504478, expected=23136.140000\n",
      "predicted=23372.600112, expected=23842.990000\n",
      "predicted=23985.873049, expected=23470.850000\n",
      "predicted=23415.839459, expected=22732.010000\n",
      "predicted=22733.594256, expected=23835.100000\n",
      "predicted=23786.754627, expected=23247.710000\n",
      "predicted=23332.202876, expected=23726.280000\n",
      "predicted=23685.879038, expected=24705.150000\n",
      "predicted=24705.948815, expected=26466.280000\n",
      "predicted=26665.179802, expected=26259.600000\n",
      "predicted=26258.068690, expected=27037.910000\n",
      "predicted=26839.711037, expected=27063.620000\n",
      "predicted=26939.305055, expected=40667.070000\n",
      "predicted=40745.294692, expected=40239.060000\n",
      "predicted=40384.950872, expected=38173.730000\n",
      "predicted=38431.208133, expected=35455.580000\n",
      "predicted=35260.463966, expected=34035.020000\n",
      "predicted=35140.174477, expected=37393.490000\n",
      "predicted=37067.657781, expected=39134.350000\n",
      "predicted=39015.536470, expected=36756.570000\n",
      "predicted=36652.212968, expected=36000.000000\n",
      "predicted=35992.388485, expected=35819.250000\n",
      "predicted=37302.790078, expected=36616.950000\n",
      "predicted=36266.754694, expected=35917.620000\n",
      "predicted=35403.627378, expected=35496.910000\n",
      "predicted=34586.589226, expected=30818.180000\n",
      "predicted=30463.453435, expected=32992.060000\n",
      "predicted=33563.199608, expected=32117.490000\n",
      "predicted=31896.345930, expected=32288.830000\n",
      "predicted=32939.893980, expected=32261.220000\n",
      "predicted=31682.270931, expected=32504.530000\n",
      "predicted=33450.870848, expected=30424.620000\n",
      "predicted=30878.014807, expected=33484.870000\n",
      "predicted=32831.435499, expected=34249.640000\n",
      "predicted=33997.139140, expected=34323.000000\n",
      "predicted=33329.420262, expected=33141.380000\n",
      "predicted=32681.769076, expected=33532.740000\n",
      "predicted=34495.391357, expected=35522.160000\n",
      "predicted=35951.966096, expected=37691.630000\n",
      "predicted=36918.282643, expected=36996.320000\n",
      "predicted=36902.635225, expected=38320.000000\n",
      "predicted=37758.490825, expected=39282.100000\n",
      "predicted=39596.103373, expected=38858.390000\n",
      "predicted=39374.848857, expected=46416.450000\n",
      "predicted=44893.239609, expected=46505.200000\n",
      "predicted=47358.673667, expected=44854.630000\n",
      "predicted=44605.120147, expected=47981.480000\n",
      "predicted=47620.812057, expected=47395.840000\n",
      "predicted=47495.029494, expected=47228.480000\n",
      "predicted=47306.677525, expected=48662.500000\n",
      "predicted=48342.962622, expected=47942.570000\n",
      "predicted=49277.311184, expected=47881.490000\n",
      "Test RMSE: 1940.200\n"
     ]
    },
    {
     "data": {
      "text/plain": [
       "[<matplotlib.lines.Line2D at 0x7f4cf57eaf40>]"
      ]
     },
     "execution_count": 47,
     "metadata": {},
     "output_type": "execute_result"
    },
    {
     "data": {
      "image/png": "[encoded data removed]",
      "text/plain": [
       "<Figure size 432x288 with 1 Axes>"
      ]
     },
     "metadata": {
      "needs_background": "light"
     },
     "output_type": "display_data"
    }
   ],
   "source": [
    "X = series.values\n",
    "train, test = X[1:len(X)-100], X[len(X)-100:]\n",
    "window = 42\n",
    "model = AutoReg(train,lags=window, old_names=False)\n",
    "model_fit=model.fit()\n",
    "coef = model_fit.params\n",
    "history = train[len(train)-window:]\n",
    "history = [history[i] for i in range(len(history))]\n",
    "predictions = list()\n",
    "for t in range(len(test)):\n",
    "    length = len(history)\n",
    "    lag = [history[i] for i in range(length-window, length)]\n",
    "    yhat = coef[0]\n",
    "    for d in range(window):\n",
    "        yhat += coef[d+1] * lag[window-d-1]\n",
    "    obs = test[t]\n",
    "    predictions.append(yhat)\n",
    "    history.append(obs)\n",
    "    print('predicted=%f, expected=%f' % (yhat,obs))\n",
    "rmse = sqrt(mean_squared_error(test,predictions))\n",
    "print('Test RMSE: %.3f' % rmse)\n",
    "plt.plot(test)\n",
    "plt.plot(predictions, color='red')"
   ]
  }
 ],
 "metadata": {
  "kernelspec": {
   "display_name": "Python 3",
   "language": "python",
   "name": "python3"
  },
  "language_info": {
   "codemirror_mode": {
    "name": "ipython",
    "version": 3
   },
   "file_extension": ".py",
   "mimetype": "text/x-python",
   "name": "python",
   "nbconvert_exporter": "python",
   "pygments_lexer": "ipython3",
   "version": "3.9.1"
  }
 },
 "nbformat": 4,
 "nbformat_minor": 4
}
